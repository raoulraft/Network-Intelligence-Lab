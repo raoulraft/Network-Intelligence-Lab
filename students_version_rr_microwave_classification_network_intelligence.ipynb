{
  "nbformat": 4,
  "nbformat_minor": 0,
  "metadata": {
    "colab": {
      "provenance": []
    },
    "kernelspec": {
      "name": "python3",
      "display_name": "Python 3"
    },
    "language_info": {
      "name": "python"
    }
  },
  "cells": [
    {
      "cell_type": "code",
      "execution_count": null,
      "metadata": {
        "id": "ljSYxI6oz_ng"
      },
      "outputs": [],
      "source": [
        "import tensorflow as tf\n",
        "from sklearn.preprocessing import StandardScaler\n",
        "import pandas as pd\n",
        "import matplotlib.pyplot as plt"
      ]
    },
    {
      "cell_type": "code",
      "source": [
        "# Downloading the dataset\n",
        "url_dataset = 'https://raw.githubusercontent.com/bonsai-lab-polimi/tnsm2024-data-centric/main/dataset_TNSM_06995_v2.csv'\n",
        "data = pd.read_csv(url_dataset)\n",
        "\n",
        "# Describing the dataset\n",
        "\n",
        "### YOUR CODE HERE ###\n"
      ],
      "metadata": {
        "id": "xV94L6Bt1V-V"
      },
      "execution_count": null,
      "outputs": []
    },
    {
      "cell_type": "code",
      "source": [
        "# Splitting input features (X) from target feature (y)\n",
        "\n",
        "\n",
        "# Feature normalization\n",
        "\n",
        "\n",
        "# Splitting dataset into Training, validation and test set\n"
      ],
      "metadata": {
        "id": "4fnoBn3g4JjB"
      },
      "execution_count": null,
      "outputs": []
    },
    {
      "cell_type": "code",
      "source": [
        "from tensorflow.keras import layers, models\n",
        "\n",
        "# Neural network definition\n"
      ],
      "metadata": {
        "id": "pQeGFyKn6b-o"
      },
      "execution_count": null,
      "outputs": []
    },
    {
      "cell_type": "code",
      "source": [
        "# Compile the model\n"
      ],
      "metadata": {
        "id": "49Co-TX36txa"
      },
      "execution_count": null,
      "outputs": []
    },
    {
      "cell_type": "code",
      "source": [
        "# Train the model\n"
      ],
      "metadata": {
        "id": "c-zxd9cc66_9"
      },
      "execution_count": null,
      "outputs": []
    },
    {
      "cell_type": "code",
      "source": [
        "# Evaluate model on test dataset\n"
      ],
      "metadata": {
        "id": "rVXzbQPpq8hk"
      },
      "execution_count": null,
      "outputs": []
    },
    {
      "cell_type": "code",
      "source": [
        "# Generate predictions for the test dataset"
      ],
      "metadata": {
        "id": "-AQxE4Gp1d-m"
      },
      "execution_count": null,
      "outputs": []
    },
    {
      "cell_type": "code",
      "source": [
        "# Extract true labels from the test dataset"
      ],
      "metadata": {
        "id": "m6je_HBl1hNK"
      },
      "execution_count": null,
      "outputs": []
    },
    {
      "cell_type": "code",
      "source": [
        "# Print classification report"
      ],
      "metadata": {
        "id": "AG1gjF1F1in0"
      },
      "execution_count": null,
      "outputs": []
    },
    {
      "cell_type": "code",
      "source": [
        "# Compute and plot confusion matrix"
      ],
      "metadata": {
        "id": "nWeABC6S1k6E"
      },
      "execution_count": null,
      "outputs": []
    },
    {
      "cell_type": "code",
      "source": [
        "# Plot the loss and accuracy (training and validation)"
      ],
      "metadata": {
        "id": "uBXH4Pus0HA7"
      },
      "execution_count": null,
      "outputs": []
    },
    {
      "cell_type": "code",
      "source": [
        "from sklearn.metrics import classification_report, confusion_matrix\n",
        "import seaborn as sns\n",
        "\n",
        "# Evaluate the model (predict on test dataset)\n",
        "\n",
        "# Classification report (sklearn)\n",
        "\n"
      ],
      "metadata": {
        "id": "kPc-fWMp7Zga"
      },
      "execution_count": null,
      "outputs": []
    },
    {
      "cell_type": "code",
      "source": [
        "# Calculate and Plot Confusion Matrix"
      ],
      "metadata": {
        "id": "WMdiDL_s3eEs"
      },
      "execution_count": null,
      "outputs": []
    },
    {
      "cell_type": "code",
      "source": [],
      "metadata": {
        "id": "vYQFkk5jkVzt"
      },
      "execution_count": null,
      "outputs": []
    }
  ]
}